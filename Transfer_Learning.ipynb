{
  "nbformat": 4,
  "nbformat_minor": 0,
  "metadata": {
    "colab": {
      "provenance": [],
      "machine_shape": "hm",
      "gpuType": "A100"
    },
    "kernelspec": {
      "name": "python3",
      "display_name": "Python 3"
    },
    "language_info": {
      "name": "python"
    },
    "accelerator": "GPU",
    "widgets": {
      "application/vnd.jupyter.widget-state+json": {
        "c658ca38b7cb4bd1a78416a9f055bc01": {
          "model_module": "@jupyter-widgets/controls",
          "model_name": "HBoxModel",
          "model_module_version": "1.5.0",
          "state": {
            "_dom_classes": [],
            "_model_module": "@jupyter-widgets/controls",
            "_model_module_version": "1.5.0",
            "_model_name": "HBoxModel",
            "_view_count": null,
            "_view_module": "@jupyter-widgets/controls",
            "_view_module_version": "1.5.0",
            "_view_name": "HBoxView",
            "box_style": "",
            "children": [
              "IPY_MODEL_8f626b5105e84453ad72cb0279f1c7be",
              "IPY_MODEL_313c3a0b9528408e82bd7ebb3a73d2b3",
              "IPY_MODEL_8d92d67eef9c4edab8e49ce3f5b381b1"
            ],
            "layout": "IPY_MODEL_0e9f164560b444ff97362f626f20f2c1"
          }
        },
        "8f626b5105e84453ad72cb0279f1c7be": {
          "model_module": "@jupyter-widgets/controls",
          "model_name": "HTMLModel",
          "model_module_version": "1.5.0",
          "state": {
            "_dom_classes": [],
            "_model_module": "@jupyter-widgets/controls",
            "_model_module_version": "1.5.0",
            "_model_name": "HTMLModel",
            "_view_count": null,
            "_view_module": "@jupyter-widgets/controls",
            "_view_module_version": "1.5.0",
            "_view_name": "HTMLView",
            "description": "",
            "description_tooltip": null,
            "layout": "IPY_MODEL_c23641a2295241f488c85f9f7995f965",
            "placeholder": "​",
            "style": "IPY_MODEL_a653a34b02e14ff29c6bc48312bbac6f",
            "value": "Map: 100%"
          }
        },
        "313c3a0b9528408e82bd7ebb3a73d2b3": {
          "model_module": "@jupyter-widgets/controls",
          "model_name": "FloatProgressModel",
          "model_module_version": "1.5.0",
          "state": {
            "_dom_classes": [],
            "_model_module": "@jupyter-widgets/controls",
            "_model_module_version": "1.5.0",
            "_model_name": "FloatProgressModel",
            "_view_count": null,
            "_view_module": "@jupyter-widgets/controls",
            "_view_module_version": "1.5.0",
            "_view_name": "ProgressView",
            "bar_style": "success",
            "description": "",
            "description_tooltip": null,
            "layout": "IPY_MODEL_b5fd532fdf724e0e951972d690ce6132",
            "max": 25000,
            "min": 0,
            "orientation": "horizontal",
            "style": "IPY_MODEL_8fae2fec96ba4abfb28a4dfce4b909dc",
            "value": 25000
          }
        },
        "8d92d67eef9c4edab8e49ce3f5b381b1": {
          "model_module": "@jupyter-widgets/controls",
          "model_name": "HTMLModel",
          "model_module_version": "1.5.0",
          "state": {
            "_dom_classes": [],
            "_model_module": "@jupyter-widgets/controls",
            "_model_module_version": "1.5.0",
            "_model_name": "HTMLModel",
            "_view_count": null,
            "_view_module": "@jupyter-widgets/controls",
            "_view_module_version": "1.5.0",
            "_view_name": "HTMLView",
            "description": "",
            "description_tooltip": null,
            "layout": "IPY_MODEL_b4d5a00844de4613b866df47462db619",
            "placeholder": "​",
            "style": "IPY_MODEL_edd11bd9d62e4c919aba506c1e368efe",
            "value": " 25000/25000 [00:12&lt;00:00, 2153.17 examples/s]"
          }
        },
        "0e9f164560b444ff97362f626f20f2c1": {
          "model_module": "@jupyter-widgets/base",
          "model_name": "LayoutModel",
          "model_module_version": "1.2.0",
          "state": {
            "_model_module": "@jupyter-widgets/base",
            "_model_module_version": "1.2.0",
            "_model_name": "LayoutModel",
            "_view_count": null,
            "_view_module": "@jupyter-widgets/base",
            "_view_module_version": "1.2.0",
            "_view_name": "LayoutView",
            "align_content": null,
            "align_items": null,
            "align_self": null,
            "border": null,
            "bottom": null,
            "display": null,
            "flex": null,
            "flex_flow": null,
            "grid_area": null,
            "grid_auto_columns": null,
            "grid_auto_flow": null,
            "grid_auto_rows": null,
            "grid_column": null,
            "grid_gap": null,
            "grid_row": null,
            "grid_template_areas": null,
            "grid_template_columns": null,
            "grid_template_rows": null,
            "height": null,
            "justify_content": null,
            "justify_items": null,
            "left": null,
            "margin": null,
            "max_height": null,
            "max_width": null,
            "min_height": null,
            "min_width": null,
            "object_fit": null,
            "object_position": null,
            "order": null,
            "overflow": null,
            "overflow_x": null,
            "overflow_y": null,
            "padding": null,
            "right": null,
            "top": null,
            "visibility": null,
            "width": null
          }
        },
        "c23641a2295241f488c85f9f7995f965": {
          "model_module": "@jupyter-widgets/base",
          "model_name": "LayoutModel",
          "model_module_version": "1.2.0",
          "state": {
            "_model_module": "@jupyter-widgets/base",
            "_model_module_version": "1.2.0",
            "_model_name": "LayoutModel",
            "_view_count": null,
            "_view_module": "@jupyter-widgets/base",
            "_view_module_version": "1.2.0",
            "_view_name": "LayoutView",
            "align_content": null,
            "align_items": null,
            "align_self": null,
            "border": null,
            "bottom": null,
            "display": null,
            "flex": null,
            "flex_flow": null,
            "grid_area": null,
            "grid_auto_columns": null,
            "grid_auto_flow": null,
            "grid_auto_rows": null,
            "grid_column": null,
            "grid_gap": null,
            "grid_row": null,
            "grid_template_areas": null,
            "grid_template_columns": null,
            "grid_template_rows": null,
            "height": null,
            "justify_content": null,
            "justify_items": null,
            "left": null,
            "margin": null,
            "max_height": null,
            "max_width": null,
            "min_height": null,
            "min_width": null,
            "object_fit": null,
            "object_position": null,
            "order": null,
            "overflow": null,
            "overflow_x": null,
            "overflow_y": null,
            "padding": null,
            "right": null,
            "top": null,
            "visibility": null,
            "width": null
          }
        },
        "a653a34b02e14ff29c6bc48312bbac6f": {
          "model_module": "@jupyter-widgets/controls",
          "model_name": "DescriptionStyleModel",
          "model_module_version": "1.5.0",
          "state": {
            "_model_module": "@jupyter-widgets/controls",
            "_model_module_version": "1.5.0",
            "_model_name": "DescriptionStyleModel",
            "_view_count": null,
            "_view_module": "@jupyter-widgets/base",
            "_view_module_version": "1.2.0",
            "_view_name": "StyleView",
            "description_width": ""
          }
        },
        "b5fd532fdf724e0e951972d690ce6132": {
          "model_module": "@jupyter-widgets/base",
          "model_name": "LayoutModel",
          "model_module_version": "1.2.0",
          "state": {
            "_model_module": "@jupyter-widgets/base",
            "_model_module_version": "1.2.0",
            "_model_name": "LayoutModel",
            "_view_count": null,
            "_view_module": "@jupyter-widgets/base",
            "_view_module_version": "1.2.0",
            "_view_name": "LayoutView",
            "align_content": null,
            "align_items": null,
            "align_self": null,
            "border": null,
            "bottom": null,
            "display": null,
            "flex": null,
            "flex_flow": null,
            "grid_area": null,
            "grid_auto_columns": null,
            "grid_auto_flow": null,
            "grid_auto_rows": null,
            "grid_column": null,
            "grid_gap": null,
            "grid_row": null,
            "grid_template_areas": null,
            "grid_template_columns": null,
            "grid_template_rows": null,
            "height": null,
            "justify_content": null,
            "justify_items": null,
            "left": null,
            "margin": null,
            "max_height": null,
            "max_width": null,
            "min_height": null,
            "min_width": null,
            "object_fit": null,
            "object_position": null,
            "order": null,
            "overflow": null,
            "overflow_x": null,
            "overflow_y": null,
            "padding": null,
            "right": null,
            "top": null,
            "visibility": null,
            "width": null
          }
        },
        "8fae2fec96ba4abfb28a4dfce4b909dc": {
          "model_module": "@jupyter-widgets/controls",
          "model_name": "ProgressStyleModel",
          "model_module_version": "1.5.0",
          "state": {
            "_model_module": "@jupyter-widgets/controls",
            "_model_module_version": "1.5.0",
            "_model_name": "ProgressStyleModel",
            "_view_count": null,
            "_view_module": "@jupyter-widgets/base",
            "_view_module_version": "1.2.0",
            "_view_name": "StyleView",
            "bar_color": null,
            "description_width": ""
          }
        },
        "b4d5a00844de4613b866df47462db619": {
          "model_module": "@jupyter-widgets/base",
          "model_name": "LayoutModel",
          "model_module_version": "1.2.0",
          "state": {
            "_model_module": "@jupyter-widgets/base",
            "_model_module_version": "1.2.0",
            "_model_name": "LayoutModel",
            "_view_count": null,
            "_view_module": "@jupyter-widgets/base",
            "_view_module_version": "1.2.0",
            "_view_name": "LayoutView",
            "align_content": null,
            "align_items": null,
            "align_self": null,
            "border": null,
            "bottom": null,
            "display": null,
            "flex": null,
            "flex_flow": null,
            "grid_area": null,
            "grid_auto_columns": null,
            "grid_auto_flow": null,
            "grid_auto_rows": null,
            "grid_column": null,
            "grid_gap": null,
            "grid_row": null,
            "grid_template_areas": null,
            "grid_template_columns": null,
            "grid_template_rows": null,
            "height": null,
            "justify_content": null,
            "justify_items": null,
            "left": null,
            "margin": null,
            "max_height": null,
            "max_width": null,
            "min_height": null,
            "min_width": null,
            "object_fit": null,
            "object_position": null,
            "order": null,
            "overflow": null,
            "overflow_x": null,
            "overflow_y": null,
            "padding": null,
            "right": null,
            "top": null,
            "visibility": null,
            "width": null
          }
        },
        "edd11bd9d62e4c919aba506c1e368efe": {
          "model_module": "@jupyter-widgets/controls",
          "model_name": "DescriptionStyleModel",
          "model_module_version": "1.5.0",
          "state": {
            "_model_module": "@jupyter-widgets/controls",
            "_model_module_version": "1.5.0",
            "_model_name": "DescriptionStyleModel",
            "_view_count": null,
            "_view_module": "@jupyter-widgets/base",
            "_view_module_version": "1.2.0",
            "_view_name": "StyleView",
            "description_width": ""
          }
        }
      }
    }
  },
  "cells": [
    {
      "cell_type": "code",
      "source": [
        "!kaggle datasets download -d moltean/fruits\n"
      ],
      "metadata": {
        "colab": {
          "base_uri": "https://localhost:8080/"
        },
        "id": "d_w3uSsrNB5b",
        "outputId": "68575b87-c711-480c-817f-7af4ffc6dbee"
      },
      "execution_count": null,
      "outputs": [
        {
          "output_type": "stream",
          "name": "stdout",
          "text": [
            "Warning: Looks like you're using an outdated API Version, please consider updating (server 1.7.4 / client 1.6.17)\n",
            "Dataset URL: https://www.kaggle.com/datasets/moltean/fruits\n",
            "License(s): CC-BY-SA-4.0\n",
            "Downloading fruits.zip to /content\n",
            " 99% 1.88G/1.89G [00:09<00:00, 234MB/s]\n",
            "100% 1.89G/1.89G [00:09<00:00, 207MB/s]\n"
          ]
        }
      ]
    },
    {
      "cell_type": "code",
      "source": [
        "import zipfile\n",
        "\n",
        "with zipfile.ZipFile(\"fruits.zip\", \"r\") as zip_ref:\n",
        "    zip_ref.extractall(\"fruits\")\n"
      ],
      "metadata": {
        "id": "E21QePRW9Dg_"
      },
      "execution_count": null,
      "outputs": []
    },
    {
      "cell_type": "code",
      "source": [
        "import torch.nn as nn\n",
        "import torch\n",
        "import numpy as np\n",
        "import torch.optim as optim\n",
        "from torchvision.datasets import ImageFolder\n",
        "from torchvision import models, transforms\n",
        "import torch.nn.functional as F\n",
        "import torch.nn.init as init"
      ],
      "metadata": {
        "id": "8VrgDKltNpQY"
      },
      "execution_count": null,
      "outputs": []
    },
    {
      "cell_type": "code",
      "execution_count": null,
      "metadata": {
        "colab": {
          "base_uri": "https://localhost:8080/"
        },
        "id": "s9ZWJ-NwKKtk",
        "outputId": "83e073fc-a776-42d4-fe85-7240fd4b7699"
      },
      "outputs": [
        {
          "output_type": "execute_result",
          "data": {
            "text/plain": [
              "<torch._C.Generator at 0x7c195ef74030>"
            ]
          },
          "metadata": {},
          "execution_count": 4
        }
      ],
      "source": [
        "torch.manual_seed(99)"
      ]
    },
    {
      "cell_type": "code",
      "source": [
        "!pwd\n"
      ],
      "metadata": {
        "colab": {
          "base_uri": "https://localhost:8080/"
        },
        "id": "etuYbUxlPs5I",
        "outputId": "e7b5e21d-42d7-40eb-82b0-9013bf818906"
      },
      "execution_count": null,
      "outputs": [
        {
          "output_type": "stream",
          "name": "stdout",
          "text": [
            "/content\n"
          ]
        }
      ]
    },
    {
      "cell_type": "code",
      "source": [
        "from torch.utils.data import random_split, DataLoader\n",
        "transform = transforms.Compose([\n",
        "    transforms.Resize((75, 75)),\n",
        "    transforms.ToTensor()\n",
        "])\n",
        "\n",
        "data = ImageFolder(root=\"fruits/fruits-360_100x100/fruits-360/Training\",\\\n",
        "                   transform = transform)\n",
        "print(f\"There are {len(data.classes)} classes in total\")\n",
        "print(f\"There are {len(data)} pictures in total\")\n",
        "train, val = random_split(data, [int(len(data)*0.85),len(data)-int(len(data)*0.85)])\n",
        "train_loader = DataLoader(train,batch_size = 1000, shuffle=True,drop_last=True,\\\n",
        "                          num_workers=4,generator=torch.Generator().manual_seed(42))\n",
        "val_loader = DataLoader(val,batch_size = 1000,drop_last=True,num_workers=4,\\\n",
        "                        generator=torch.Generator().manual_seed(42))\n",
        "\n",
        "\n",
        "device = torch.device(\"cuda\" if torch.cuda.is_available() else \"cpu\")\n",
        "loss = nn.CrossEntropyLoss()\n",
        "\n"
      ],
      "metadata": {
        "colab": {
          "base_uri": "https://localhost:8080/"
        },
        "id": "evi-oJAQPhDh",
        "outputId": "24344704-5573-43c7-803b-54af679d186d"
      },
      "execution_count": null,
      "outputs": [
        {
          "output_type": "stream",
          "name": "stdout",
          "text": [
            "There are 160 classes in total\n",
            "There are 79921 pictures in total\n"
          ]
        }
      ]
    },
    {
      "cell_type": "code",
      "source": [
        "test_data = ImageFolder(root = \"fruits/fruits-360_100x100/fruits-360/Test\",\\\n",
        "                        transform = transform)\n",
        "test_loader = DataLoader(test_data,batch_size = 1000,drop_last=True,\\\n",
        "                          num_workers=4,generator=torch.Generator().manual_seed(42))"
      ],
      "metadata": {
        "id": "kr40OuyqrbBL"
      },
      "execution_count": null,
      "outputs": []
    },
    {
      "cell_type": "code",
      "source": [
        "import torch.nn as nn\n",
        "import torchvision.models as models\n",
        "\n",
        "class TransferModel(nn.Module):\n",
        "    def __init__(self, model_name=\"ENB1\"):\n",
        "        super().__init__()\n",
        "        self.model_name = model_name\n",
        "        num_classes = 160\n",
        "        if self.model_name == \"ENB1\":\n",
        "            self.original = models.efficientnet_b1(weights=models.EfficientNet_B1_Weights.IMAGENET1K_V1)\n",
        "            # Freeze all parameters of the original model.\n",
        "            for param in self.original.parameters():\n",
        "                param.requires_grad = False\n",
        "            self.extra_layer = nn.Linear(1000, num_classes)\n",
        "\n",
        "        elif self.model_name == \"INCEPV3\":\n",
        "            self.original = models.inception_v3(weights=models.Inception_V3_Weights.IMAGENET1K_V1, aux_logits=True)\n",
        "            # Remove AuxLogits manually after loading the pre-trained model\n",
        "            self.original.aux_logits = False\n",
        "            self.original.AuxLogits = None\n",
        "            for param in self.original.parameters():\n",
        "                param.requires_grad = False\n",
        "            self.extra_layer = nn.Linear(1000, num_classes)\n",
        "\n",
        "        else:\n",
        "            self.original = models.resnet101(weights=models.ResNet101_Weights.IMAGENET1K_V2)\n",
        "            for param in self.original.parameters():\n",
        "                param.requires_grad = False\n",
        "            self.extra_layer = nn.Linear(1000, num_classes)\n",
        "\n",
        "    def forward(self, x):\n",
        "        original_output = self.original(x)\n",
        "        out = self.extra_layer(original_output)\n",
        "        return out\n"
      ],
      "metadata": {
        "id": "R9lZt359RVgB"
      },
      "execution_count": null,
      "outputs": []
    },
    {
      "cell_type": "code",
      "source": [
        "import torch\n",
        "import numpy as np  # for np.mean\n",
        "\n",
        "class Train():\n",
        "    def __init__(self, model, epochs, device):\n",
        "        self.device = device\n",
        "        self.model = model.to(self.device)\n",
        "        self.optimizer = optim.Adam(self.model.parameters(), lr=0.001)\n",
        "        self.epochs = epochs\n",
        "        self.train_loss = []\n",
        "        self.val_loss = []\n",
        "        self.train_acc = []\n",
        "        self.val_acc = []\n",
        "\n",
        "    def train(self):\n",
        "        for epoch in range(self.epochs):\n",
        "            self.model.train()\n",
        "            trainloss = 0\n",
        "            trainacc = 0\n",
        "            valloss = 0\n",
        "            valacc = 0\n",
        "\n",
        "            for batch in train_loader:\n",
        "                x, y = batch\n",
        "                x, y = x.to(self.device), y.to(self.device)\n",
        "                preds = self.model(x)\n",
        "                loss_value = loss(preds, y)\n",
        "                self.optimizer.zero_grad()\n",
        "                loss_value.backward()\n",
        "                self.optimizer.step()\n",
        "                trainloss += loss_value.item()\n",
        "                trainacc += (torch.sum(torch.argmax(preds, dim=1) == y).item()) / len(y)\n",
        "\n",
        "            self.train_loss.append(trainloss / len(train_loader))\n",
        "            self.train_acc.append(trainacc / len(train_loader))\n",
        "            self.model.eval()\n",
        "            with torch.no_grad():\n",
        "                for batch in val_loader:\n",
        "                    x, y = batch\n",
        "                    x, y = x.to(self.device), y.to(self.device)\n",
        "                    preds = self.model(x)\n",
        "                    loss_value = loss(preds, y)\n",
        "                    valloss += loss_value.item()\n",
        "                    valacc += (torch.sum(torch.argmax(preds, dim=1) == y).item()) / len(y)\n",
        "\n",
        "            self.val_loss.append(valloss / len(val_loader))\n",
        "            self.val_acc.append(valacc / len(val_loader))\n",
        "            print(f\"Epoch {epoch+1}/{self.epochs}: \"\n",
        "                  f\"Train Loss: {trainloss / len(train_loader):.4f}, Train Acc: {trainacc / len(train_loader):.4f}, \"\n",
        "                  f\"Val Loss: {valloss / len(val_loader):.4f}, Val Acc: {valacc / len(val_loader):.4f}\")\n"
      ],
      "metadata": {
        "id": "5UssySd_VEWs"
      },
      "execution_count": null,
      "outputs": []
    },
    {
      "cell_type": "code",
      "source": [
        "device = torch.device(\"cuda\" if torch.cuda.is_available() else \"cpu\")\n"
      ],
      "metadata": {
        "id": "njYMLFkVWBGs"
      },
      "execution_count": null,
      "outputs": []
    },
    {
      "cell_type": "code",
      "source": [
        "model = TransferModel(model_name=\"ENB1\")\n",
        "trainer = Train(model, epochs=50, device=device)\n",
        "trainer.train()\n"
      ],
      "metadata": {
        "colab": {
          "base_uri": "https://localhost:8080/"
        },
        "id": "faW3R85iYrxz",
        "outputId": "8c226485-f40a-4d63-93fc-6cf236180982"
      },
      "execution_count": null,
      "outputs": [
        {
          "output_type": "stream",
          "name": "stdout",
          "text": [
            "Epoch 1/50: Train Loss: 1.1136, Train Acc: 0.7945, Val Loss: 0.0978, Val Acc: 0.9895\n",
            "Epoch 2/50: Train Loss: 0.1559, Train Acc: 0.9757, Val Loss: 0.0391, Val Acc: 0.9969\n",
            "Epoch 3/50: Train Loss: 0.0964, Train Acc: 0.9854, Val Loss: 0.0224, Val Acc: 0.9987\n",
            "Epoch 4/50: Train Loss: 0.0704, Train Acc: 0.9892, Val Loss: 0.0156, Val Acc: 0.9992\n",
            "Epoch 5/50: Train Loss: 0.0572, Train Acc: 0.9906, Val Loss: 0.0117, Val Acc: 0.9994\n",
            "Epoch 6/50: Train Loss: 0.0497, Train Acc: 0.9918, Val Loss: 0.0090, Val Acc: 0.9996\n",
            "Epoch 7/50: Train Loss: 0.0411, Train Acc: 0.9937, Val Loss: 0.0073, Val Acc: 0.9996\n",
            "Epoch 8/50: Train Loss: 0.0365, Train Acc: 0.9938, Val Loss: 0.0059, Val Acc: 0.9997\n",
            "Epoch 9/50: Train Loss: 0.0324, Train Acc: 0.9943, Val Loss: 0.0046, Val Acc: 0.9997\n",
            "Epoch 10/50: Train Loss: 0.0315, Train Acc: 0.9937, Val Loss: 0.0041, Val Acc: 0.9997\n",
            "Epoch 11/50: Train Loss: 0.0283, Train Acc: 0.9948, Val Loss: 0.0037, Val Acc: 0.9998\n",
            "Epoch 12/50: Train Loss: 0.0275, Train Acc: 0.9947, Val Loss: 0.0033, Val Acc: 0.9999\n",
            "Epoch 13/50: Train Loss: 0.0250, Train Acc: 0.9951, Val Loss: 0.0028, Val Acc: 0.9999\n",
            "Epoch 14/50: Train Loss: 0.0237, Train Acc: 0.9953, Val Loss: 0.0026, Val Acc: 0.9999\n",
            "Epoch 15/50: Train Loss: 0.0224, Train Acc: 0.9953, Val Loss: 0.0024, Val Acc: 0.9999\n",
            "Epoch 16/50: Train Loss: 0.0210, Train Acc: 0.9959, Val Loss: 0.0021, Val Acc: 0.9999\n",
            "Epoch 17/50: Train Loss: 0.0197, Train Acc: 0.9962, Val Loss: 0.0019, Val Acc: 0.9999\n",
            "Epoch 18/50: Train Loss: 0.0180, Train Acc: 0.9964, Val Loss: 0.0020, Val Acc: 0.9999\n",
            "Epoch 19/50: Train Loss: 0.0189, Train Acc: 0.9962, Val Loss: 0.0017, Val Acc: 0.9998\n",
            "Epoch 20/50: Train Loss: 0.0185, Train Acc: 0.9961, Val Loss: 0.0017, Val Acc: 0.9999\n",
            "Epoch 21/50: Train Loss: 0.0175, Train Acc: 0.9960, Val Loss: 0.0016, Val Acc: 0.9999\n",
            "Epoch 22/50: Train Loss: 0.0171, Train Acc: 0.9964, Val Loss: 0.0014, Val Acc: 0.9999\n",
            "Epoch 23/50: Train Loss: 0.0158, Train Acc: 0.9969, Val Loss: 0.0015, Val Acc: 0.9998\n",
            "Epoch 24/50: Train Loss: 0.0159, Train Acc: 0.9962, Val Loss: 0.0016, Val Acc: 0.9998\n",
            "Epoch 25/50: Train Loss: 0.0154, Train Acc: 0.9967, Val Loss: 0.0014, Val Acc: 0.9999\n",
            "Epoch 26/50: Train Loss: 0.0155, Train Acc: 0.9965, Val Loss: 0.0013, Val Acc: 0.9998\n",
            "Epoch 27/50: Train Loss: 0.0142, Train Acc: 0.9968, Val Loss: 0.0013, Val Acc: 0.9999\n",
            "Epoch 28/50: Train Loss: 0.0147, Train Acc: 0.9966, Val Loss: 0.0013, Val Acc: 0.9999\n",
            "Epoch 29/50: Train Loss: 0.0147, Train Acc: 0.9965, Val Loss: 0.0010, Val Acc: 0.9999\n",
            "Epoch 30/50: Train Loss: 0.0142, Train Acc: 0.9967, Val Loss: 0.0011, Val Acc: 0.9998\n",
            "Epoch 31/50: Train Loss: 0.0133, Train Acc: 0.9967, Val Loss: 0.0010, Val Acc: 0.9998\n",
            "Epoch 32/50: Train Loss: 0.0124, Train Acc: 0.9971, Val Loss: 0.0011, Val Acc: 0.9998\n",
            "Epoch 33/50: Train Loss: 0.0131, Train Acc: 0.9969, Val Loss: 0.0010, Val Acc: 0.9998\n",
            "Epoch 34/50: Train Loss: 0.0129, Train Acc: 0.9967, Val Loss: 0.0010, Val Acc: 0.9999\n",
            "Epoch 35/50: Train Loss: 0.0116, Train Acc: 0.9973, Val Loss: 0.0011, Val Acc: 0.9998\n",
            "Epoch 36/50: Train Loss: 0.0143, Train Acc: 0.9960, Val Loss: 0.0011, Val Acc: 0.9999\n",
            "Epoch 37/50: Train Loss: 0.0140, Train Acc: 0.9961, Val Loss: 0.0009, Val Acc: 0.9998\n",
            "Epoch 38/50: Train Loss: 0.0126, Train Acc: 0.9970, Val Loss: 0.0009, Val Acc: 0.9998\n",
            "Epoch 39/50: Train Loss: 0.0127, Train Acc: 0.9967, Val Loss: 0.0009, Val Acc: 0.9998\n",
            "Epoch 40/50: Train Loss: 0.0118, Train Acc: 0.9971, Val Loss: 0.0009, Val Acc: 0.9998\n",
            "Epoch 41/50: Train Loss: 0.0124, Train Acc: 0.9967, Val Loss: 0.0007, Val Acc: 0.9998\n",
            "Epoch 42/50: Train Loss: 0.0121, Train Acc: 0.9968, Val Loss: 0.0010, Val Acc: 0.9996\n",
            "Epoch 43/50: Train Loss: 0.0128, Train Acc: 0.9965, Val Loss: 0.0008, Val Acc: 0.9999\n",
            "Epoch 44/50: Train Loss: 0.0120, Train Acc: 0.9966, Val Loss: 0.0007, Val Acc: 0.9999\n",
            "Epoch 45/50: Train Loss: 0.0120, Train Acc: 0.9967, Val Loss: 0.0010, Val Acc: 0.9998\n",
            "Epoch 46/50: Train Loss: 0.0117, Train Acc: 0.9969, Val Loss: 0.0011, Val Acc: 0.9997\n",
            "Epoch 47/50: Train Loss: 0.0119, Train Acc: 0.9967, Val Loss: 0.0009, Val Acc: 0.9998\n",
            "Epoch 48/50: Train Loss: 0.0126, Train Acc: 0.9964, Val Loss: 0.0008, Val Acc: 0.9998\n",
            "Epoch 49/50: Train Loss: 0.0128, Train Acc: 0.9965, Val Loss: 0.0007, Val Acc: 0.9999\n",
            "Epoch 50/50: Train Loss: 0.0107, Train Acc: 0.9970, Val Loss: 0.0007, Val Acc: 0.9998\n"
          ]
        }
      ]
    },
    {
      "cell_type": "code",
      "source": [
        "train_acc = trainer.train_acc\n",
        "train_loss = trainer.train_loss\n",
        "val_acc = trainer.val_acc\n",
        "val_loss = trainer.val_loss"
      ],
      "metadata": {
        "id": "NcvU-N5TiDCp"
      },
      "execution_count": null,
      "outputs": []
    },
    {
      "cell_type": "code",
      "source": [
        "import matplotlib.pyplot as plt\n",
        "plt.plot(train_acc, label='Training Accuracy')\n",
        "plt.plot(val_acc, label='Validation Accuracy')\n",
        "plt.xlabel('Epoch')\n",
        "plt.ylabel('Accuracy')\n",
        "plt.legend()\n",
        "plt.show()"
      ],
      "metadata": {
        "colab": {
          "base_uri": "https://localhost:8080/",
          "height": 449
        },
        "id": "kJoBYC2piNY2",
        "outputId": "f7e27151-0303-427f-9941-5c053cd829b7"
      },
      "execution_count": null,
      "outputs": [
        {
          "output_type": "display_data",
          "data": {
            "text/plain": [
              "<Figure size 640x480 with 1 Axes>"
            ],
            "image/png": "[encoded data removed]"
          },
          "metadata": {}
        }
      ]
    },
    {
      "cell_type": "code",
      "source": [
        "plt.plot(train_loss, label='Training Loss')\n",
        "plt.plot(val_loss, label='Validation Loss')\n",
        "plt.xlabel('Epoch')\n",
        "plt.ylabel('Loss')\n",
        "plt.legend()\n",
        "plt.show()"
      ],
      "metadata": {
        "colab": {
          "base_uri": "https://localhost:8080/",
          "height": 449
        },
        "id": "tOvgi9fBvgwQ",
        "outputId": "77d6c787-f1fb-48da-cf7c-d599d7ea0ee9"
      },
      "execution_count": null,
      "outputs": [
        {
          "output_type": "display_data",
          "data": {
            "text/plain": [
              "<Figure size 640x480 with 1 Axes>"
            ],
            "image/png": "[encoded data removed]"
          },
          "metadata": {}
        }
      ]
    },
    {
      "cell_type": "code",
      "source": [
        "from time import time\n",
        "start = time()\n",
        "acc = 0\n",
        "with torch.no_grad():\n",
        "  for batch in test_loader:\n",
        "      x, y = batch\n",
        "      x, y = x.to(device), y.to(device)  # move data to GPU\n",
        "      preds = model(x)\n",
        "      acc += (torch.sum(torch.argmax(preds, dim=1) == y).item()) / len(y)\n",
        "print(f\"Test Accuracy: {acc / len(test_loader)}\")\n",
        "end = time()\n",
        "t = end - start\n",
        "print(f\"Time taken: {t} seconds\")\n",
        "\n",
        "\n"
      ],
      "metadata": {
        "colab": {
          "base_uri": "https://localhost:8080/"
        },
        "id": "WfFuJHo4rJZY",
        "outputId": "0a18be44-3297-425c-f0db-ef2d7252de37"
      },
      "execution_count": null,
      "outputs": [
        {
          "output_type": "stream",
          "name": "stdout",
          "text": [
            "Test Accuracy: 0.22303846153846155\n",
            "Time taken: 5.58285927772522 seconds\n"
          ]
        }
      ]
    },
    {
      "cell_type": "code",
      "source": [
        "model1 = TransferModel(model_name=\"INCEPV3\")\n",
        "trainer1 = Train(model1, epochs=50, device=device)\n",
        "trainer1.train()\n"
      ],
      "metadata": {
        "colab": {
          "base_uri": "https://localhost:8080/"
        },
        "id": "wB2kEtsCoNTw",
        "outputId": "86c57926-1704-4991-b42f-e6bab8efad85"
      },
      "execution_count": null,
      "outputs": [
        {
          "output_type": "stream",
          "name": "stderr",
          "text": [
            "Downloading: \"https://download.pytorch.org/models/inception_v3_google-0cc3c7bd.pth\" to /root/.cache/torch/hub/checkpoints/inception_v3_google-0cc3c7bd.pth\n",
            "100%|██████████| 104M/104M [00:00<00:00, 187MB/s] \n"
          ]
        },
        {
          "output_type": "stream",
          "name": "stdout",
          "text": [
            "Epoch 1/50: Train Loss: 4.3060, Train Acc: 0.1895, Val Loss: 3.7237, Val Acc: 0.4088\n",
            "Epoch 2/50: Train Loss: 3.4156, Train Acc: 0.3800, Val Loss: 3.1051, Val Acc: 0.5102\n",
            "Epoch 3/50: Train Loss: 2.9740, Train Acc: 0.4463, Val Loss: 2.7193, Val Acc: 0.5685\n",
            "Epoch 4/50: Train Loss: 2.6933, Train Acc: 0.4861, Val Loss: 2.4628, Val Acc: 0.6088\n",
            "Epoch 5/50: Train Loss: 2.5094, Train Acc: 0.5130, Val Loss: 2.2799, Val Acc: 0.6291\n",
            "Epoch 6/50: Train Loss: 2.3862, Train Acc: 0.5306, Val Loss: 2.1526, Val Acc: 0.6392\n",
            "Epoch 7/50: Train Loss: 2.2736, Train Acc: 0.5440, Val Loss: 2.0068, Val Acc: 0.6608\n",
            "Epoch 8/50: Train Loss: 2.1852, Train Acc: 0.5571, Val Loss: 1.9148, Val Acc: 0.6810\n",
            "Epoch 9/50: Train Loss: 2.1154, Train Acc: 0.5621, Val Loss: 1.8822, Val Acc: 0.6858\n",
            "Epoch 10/50: Train Loss: 2.0631, Train Acc: 0.5739, Val Loss: 1.7269, Val Acc: 0.7106\n",
            "Epoch 11/50: Train Loss: 1.9992, Train Acc: 0.5818, Val Loss: 1.7219, Val Acc: 0.7074\n",
            "Epoch 12/50: Train Loss: 1.9543, Train Acc: 0.5895, Val Loss: 1.6525, Val Acc: 0.7126\n",
            "Epoch 13/50: Train Loss: 1.9103, Train Acc: 0.5929, Val Loss: 1.6074, Val Acc: 0.7252\n",
            "Epoch 14/50: Train Loss: 1.8909, Train Acc: 0.5965, Val Loss: 1.5912, Val Acc: 0.7240\n",
            "Epoch 15/50: Train Loss: 1.8499, Train Acc: 0.6007, Val Loss: 1.5776, Val Acc: 0.7205\n",
            "Epoch 16/50: Train Loss: 1.8234, Train Acc: 0.6058, Val Loss: 1.4893, Val Acc: 0.7384\n",
            "Epoch 17/50: Train Loss: 1.7898, Train Acc: 0.6111, Val Loss: 1.4585, Val Acc: 0.7418\n",
            "Epoch 18/50: Train Loss: 1.7640, Train Acc: 0.6154, Val Loss: 1.4578, Val Acc: 0.7430\n",
            "Epoch 19/50: Train Loss: 1.7556, Train Acc: 0.6176, Val Loss: 1.4360, Val Acc: 0.7451\n",
            "Epoch 20/50: Train Loss: 1.7239, Train Acc: 0.6201, Val Loss: 1.4008, Val Acc: 0.7544\n",
            "Epoch 21/50: Train Loss: 1.7112, Train Acc: 0.6244, Val Loss: 1.3877, Val Acc: 0.7603\n",
            "Epoch 22/50: Train Loss: 1.6899, Train Acc: 0.6241, Val Loss: 1.3516, Val Acc: 0.7572\n",
            "Epoch 23/50: Train Loss: 1.6898, Train Acc: 0.6241, Val Loss: 1.3235, Val Acc: 0.7635\n",
            "Epoch 24/50: Train Loss: 1.6583, Train Acc: 0.6318, Val Loss: 1.3367, Val Acc: 0.7609\n",
            "Epoch 25/50: Train Loss: 1.6524, Train Acc: 0.6300, Val Loss: 1.2423, Val Acc: 0.7674\n",
            "Epoch 26/50: Train Loss: 1.6381, Train Acc: 0.6308, Val Loss: 1.2541, Val Acc: 0.7791\n",
            "Epoch 27/50: Train Loss: 1.6184, Train Acc: 0.6362, Val Loss: 1.2710, Val Acc: 0.7697\n",
            "Epoch 28/50: Train Loss: 1.6021, Train Acc: 0.6389, Val Loss: 1.1921, Val Acc: 0.7824\n",
            "Epoch 29/50: Train Loss: 1.5862, Train Acc: 0.6392, Val Loss: 1.2310, Val Acc: 0.7705\n",
            "Epoch 30/50: Train Loss: 1.5720, Train Acc: 0.6407, Val Loss: 1.1787, Val Acc: 0.7896\n",
            "Epoch 31/50: Train Loss: 1.5566, Train Acc: 0.6452, Val Loss: 1.1727, Val Acc: 0.7866\n",
            "Epoch 32/50: Train Loss: 1.5663, Train Acc: 0.6437, Val Loss: 1.1736, Val Acc: 0.7839\n",
            "Epoch 33/50: Train Loss: 1.5461, Train Acc: 0.6470, Val Loss: 1.1766, Val Acc: 0.7825\n",
            "Epoch 34/50: Train Loss: 1.5367, Train Acc: 0.6495, Val Loss: 1.1669, Val Acc: 0.7844\n",
            "Epoch 35/50: Train Loss: 1.5317, Train Acc: 0.6493, Val Loss: 1.1673, Val Acc: 0.7895\n",
            "Epoch 36/50: Train Loss: 1.5390, Train Acc: 0.6488, Val Loss: 1.1217, Val Acc: 0.7937\n",
            "Epoch 37/50: Train Loss: 1.5156, Train Acc: 0.6511, Val Loss: 1.0979, Val Acc: 0.7980\n",
            "Epoch 38/50: Train Loss: 1.5095, Train Acc: 0.6533, Val Loss: 1.0936, Val Acc: 0.7924\n",
            "Epoch 39/50: Train Loss: 1.5083, Train Acc: 0.6537, Val Loss: 1.1196, Val Acc: 0.7993\n",
            "Epoch 40/50: Train Loss: 1.4843, Train Acc: 0.6577, Val Loss: 1.0787, Val Acc: 0.7972\n",
            "Epoch 41/50: Train Loss: 1.4881, Train Acc: 0.6575, Val Loss: 1.1043, Val Acc: 0.7965\n",
            "Epoch 42/50: Train Loss: 1.4860, Train Acc: 0.6560, Val Loss: 1.1110, Val Acc: 0.7945\n",
            "Epoch 43/50: Train Loss: 1.4775, Train Acc: 0.6575, Val Loss: 1.0833, Val Acc: 0.7981\n",
            "Epoch 44/50: Train Loss: 1.4613, Train Acc: 0.6591, Val Loss: 1.0435, Val Acc: 0.8027\n",
            "Epoch 45/50: Train Loss: 1.4795, Train Acc: 0.6595, Val Loss: 1.0319, Val Acc: 0.8078\n",
            "Epoch 46/50: Train Loss: 1.4453, Train Acc: 0.6622, Val Loss: 1.0297, Val Acc: 0.8069\n",
            "Epoch 47/50: Train Loss: 1.4562, Train Acc: 0.6631, Val Loss: 1.0425, Val Acc: 0.8042\n",
            "Epoch 48/50: Train Loss: 1.4586, Train Acc: 0.6620, Val Loss: 1.0680, Val Acc: 0.8025\n",
            "Epoch 49/50: Train Loss: 1.4360, Train Acc: 0.6660, Val Loss: 1.0362, Val Acc: 0.8058\n",
            "Epoch 50/50: Train Loss: 1.4160, Train Acc: 0.6679, Val Loss: 1.0306, Val Acc: 0.8083\n"
          ]
        }
      ]
    },
    {
      "cell_type": "code",
      "source": [
        "train_acc1 = trainer1.train_acc\n",
        "train_loss1 = trainer1.train_loss\n",
        "val_acc1 = trainer1.val_acc\n",
        "val_loss1 = trainer1.val_loss"
      ],
      "metadata": {
        "id": "b_0v9THK_8qZ"
      },
      "execution_count": null,
      "outputs": []
    },
    {
      "cell_type": "code",
      "source": [
        "import matplotlib.pyplot as plt\n",
        "plt.plot(train_acc1, label='Training Accuracy')\n",
        "plt.plot(val_acc1, label='Validation Accuracy')\n",
        "plt.xlabel('Epoch')\n",
        "plt.ylabel('Accuracy')\n",
        "plt.legend()\n",
        "plt.show()"
      ],
      "metadata": {
        "colab": {
          "base_uri": "https://localhost:8080/",
          "height": 449
        },
        "id": "jeIb10T3AAvy",
        "outputId": "7ff8c1ed-f4e2-489d-f630-07b7f2228f38"
      },
      "execution_count": null,
      "outputs": [
        {
          "output_type": "display_data",
          "data": {
            "text/plain": [
              "<Figure size 640x480 with 1 Axes>"
            ],
            "image/png": "[encoded data removed]"
          },
          "metadata": {}
        }
      ]
    },
    {
      "cell_type": "code",
      "source": [
        "plt.plot(train_loss1, label='Training Loss')\n",
        "plt.plot(val_loss1, label='Validation Loss')\n",
        "plt.xlabel('Epoch')\n",
        "plt.ylabel('Loss')\n",
        "plt.legend()\n",
        "plt.show()"
      ],
      "metadata": {
        "colab": {
          "base_uri": "https://localhost:8080/",
          "height": 449
        },
        "id": "3_H0vknmvbLH",
        "outputId": "31bc3eaa-0d92-4267-8e22-579257cc6594"
      },
      "execution_count": null,
      "outputs": [
        {
          "output_type": "display_data",
          "data": {
            "text/plain": [
              "<Figure size 640x480 with 1 Axes>"
            ],
            "image/png": "[encoded data removed]"
          },
          "metadata": {}
        }
      ]
    },
    {
      "cell_type": "code",
      "source": [
        "from time import time\n",
        "\n",
        "start = time()\n",
        "acc1 = 0\n",
        "model1.eval()\n",
        "with torch.no_grad():\n",
        "    for batch in test_loader:\n",
        "        x, y = batch\n",
        "        x, y = x.to(device), y.to(device)\n",
        "        preds = model1(x)\n",
        "        acc1 += (torch.sum(torch.argmax(preds, dim=1) == y).item()) / len(y)\n",
        "print(f\"Test Accuracy: {acc1 / len(test_loader)}\")\n",
        "end = time()\n",
        "t1 = end - start\n",
        "print(f\"Time taken: {t1} seconds\")\n"
      ],
      "metadata": {
        "colab": {
          "base_uri": "https://localhost:8080/"
        },
        "id": "DB0G9-flrGoE",
        "outputId": "f977e013-f12e-4496-881d-990997370dee"
      },
      "execution_count": null,
      "outputs": [
        {
          "output_type": "stream",
          "name": "stdout",
          "text": [
            "Test Accuracy: 0.15130769230769225\n",
            "Time taken: 4.961177825927734 seconds\n"
          ]
        }
      ]
    },
    {
      "cell_type": "code",
      "source": [
        "model2 = TransferModel(model_name=\"resnet101\")\n",
        "trainer2 = Train(model2, epochs=50, device=device)\n",
        "trainer2.train()"
      ],
      "metadata": {
        "colab": {
          "base_uri": "https://localhost:8080/"
        },
        "id": "HM-SlIyspzYE",
        "outputId": "498502d4-2ea8-4aee-b405-0908562f74d5"
      },
      "execution_count": null,
      "outputs": [
        {
          "output_type": "stream",
          "name": "stderr",
          "text": [
            "Downloading: \"https://download.pytorch.org/models/resnet101-cd907fc2.pth\" to /root/.cache/torch/hub/checkpoints/resnet101-cd907fc2.pth\n",
            "100%|██████████| 171M/171M [00:00<00:00, 198MB/s]\n"
          ]
        },
        {
          "output_type": "stream",
          "name": "stdout",
          "text": [
            "Epoch 1/50: Train Loss: 1.5824, Train Acc: 0.7799, Val Loss: 0.3998, Val Acc: 0.9584\n",
            "Epoch 2/50: Train Loss: 0.2872, Train Acc: 0.9774, Val Loss: 0.1997, Val Acc: 0.9864\n",
            "Epoch 3/50: Train Loss: 0.1592, Train Acc: 0.9903, Val Loss: 0.1085, Val Acc: 0.9920\n",
            "Epoch 4/50: Train Loss: 0.1038, Train Acc: 0.9950, Val Loss: 0.0776, Val Acc: 0.9952\n",
            "Epoch 5/50: Train Loss: 0.0692, Train Acc: 0.9973, Val Loss: 0.0631, Val Acc: 0.9969\n",
            "Epoch 6/50: Train Loss: 0.0560, Train Acc: 0.9979, Val Loss: 0.0518, Val Acc: 0.9975\n",
            "Epoch 7/50: Train Loss: 0.0420, Train Acc: 0.9986, Val Loss: 0.0360, Val Acc: 0.9980\n",
            "Epoch 8/50: Train Loss: 0.0343, Train Acc: 0.9990, Val Loss: 0.0392, Val Acc: 0.9985\n",
            "Epoch 9/50: Train Loss: 0.0294, Train Acc: 0.9993, Val Loss: 0.0308, Val Acc: 0.9985\n",
            "Epoch 10/50: Train Loss: 0.0244, Train Acc: 0.9994, Val Loss: 0.0258, Val Acc: 0.9987\n",
            "Epoch 11/50: Train Loss: 0.0230, Train Acc: 0.9994, Val Loss: 0.0226, Val Acc: 0.9989\n",
            "Epoch 12/50: Train Loss: 0.0200, Train Acc: 0.9997, Val Loss: 0.0234, Val Acc: 0.9989\n",
            "Epoch 13/50: Train Loss: 0.0178, Train Acc: 0.9996, Val Loss: 0.0260, Val Acc: 0.9988\n",
            "Epoch 14/50: Train Loss: 0.0165, Train Acc: 0.9996, Val Loss: 0.0153, Val Acc: 0.9994\n",
            "Epoch 15/50: Train Loss: 0.0147, Train Acc: 0.9998, Val Loss: 0.0155, Val Acc: 0.9990\n",
            "Epoch 16/50: Train Loss: 0.0141, Train Acc: 0.9997, Val Loss: 0.0130, Val Acc: 0.9995\n",
            "Epoch 17/50: Train Loss: 0.0126, Train Acc: 0.9998, Val Loss: 0.0119, Val Acc: 0.9995\n",
            "Epoch 18/50: Train Loss: 0.0109, Train Acc: 0.9997, Val Loss: 0.0128, Val Acc: 0.9993\n",
            "Epoch 19/50: Train Loss: 0.0097, Train Acc: 0.9998, Val Loss: 0.0112, Val Acc: 0.9995\n",
            "Epoch 20/50: Train Loss: 0.0099, Train Acc: 0.9998, Val Loss: 0.0102, Val Acc: 0.9994\n",
            "Epoch 21/50: Train Loss: 0.0080, Train Acc: 0.9998, Val Loss: 0.0115, Val Acc: 0.9993\n",
            "Epoch 22/50: Train Loss: 0.0081, Train Acc: 0.9998, Val Loss: 0.0094, Val Acc: 0.9997\n",
            "Epoch 23/50: Train Loss: 0.0088, Train Acc: 0.9998, Val Loss: 0.0102, Val Acc: 0.9992\n",
            "Epoch 24/50: Train Loss: 0.0063, Train Acc: 0.9999, Val Loss: 0.0071, Val Acc: 0.9996\n",
            "Epoch 25/50: Train Loss: 0.0070, Train Acc: 0.9999, Val Loss: 0.0086, Val Acc: 0.9995\n",
            "Epoch 26/50: Train Loss: 0.0070, Train Acc: 0.9998, Val Loss: 0.0072, Val Acc: 0.9995\n",
            "Epoch 27/50: Train Loss: 0.0060, Train Acc: 0.9999, Val Loss: 0.0083, Val Acc: 0.9995\n",
            "Epoch 28/50: Train Loss: 0.0050, Train Acc: 0.9999, Val Loss: 0.0056, Val Acc: 0.9996\n",
            "Epoch 29/50: Train Loss: 0.0064, Train Acc: 0.9998, Val Loss: 0.0067, Val Acc: 0.9996\n",
            "Epoch 30/50: Train Loss: 0.0051, Train Acc: 0.9999, Val Loss: 0.0057, Val Acc: 0.9996\n",
            "Epoch 31/50: Train Loss: 0.0049, Train Acc: 0.9998, Val Loss: 0.0097, Val Acc: 0.9992\n",
            "Epoch 32/50: Train Loss: 0.0050, Train Acc: 0.9999, Val Loss: 0.0063, Val Acc: 0.9995\n",
            "Epoch 33/50: Train Loss: 0.0049, Train Acc: 0.9998, Val Loss: 0.0051, Val Acc: 0.9997\n",
            "Epoch 34/50: Train Loss: 0.0043, Train Acc: 0.9999, Val Loss: 0.0052, Val Acc: 0.9996\n",
            "Epoch 35/50: Train Loss: 0.0037, Train Acc: 1.0000, Val Loss: 0.0044, Val Acc: 0.9995\n",
            "Epoch 36/50: Train Loss: 0.0041, Train Acc: 0.9999, Val Loss: 0.0052, Val Acc: 0.9995\n",
            "Epoch 37/50: Train Loss: 0.0034, Train Acc: 0.9999, Val Loss: 0.0041, Val Acc: 0.9997\n",
            "Epoch 38/50: Train Loss: 0.0035, Train Acc: 0.9999, Val Loss: 0.0047, Val Acc: 0.9997\n",
            "Epoch 39/50: Train Loss: 0.0031, Train Acc: 0.9999, Val Loss: 0.0040, Val Acc: 0.9997\n",
            "Epoch 40/50: Train Loss: 0.0033, Train Acc: 0.9999, Val Loss: 0.0040, Val Acc: 0.9996\n",
            "Epoch 41/50: Train Loss: 0.0028, Train Acc: 0.9999, Val Loss: 0.0036, Val Acc: 0.9996\n",
            "Epoch 42/50: Train Loss: 0.0033, Train Acc: 0.9999, Val Loss: 0.0040, Val Acc: 0.9996\n",
            "Epoch 43/50: Train Loss: 0.0024, Train Acc: 1.0000, Val Loss: 0.0038, Val Acc: 0.9997\n",
            "Epoch 44/50: Train Loss: 0.0028, Train Acc: 0.9999, Val Loss: 0.0032, Val Acc: 0.9997\n",
            "Epoch 45/50: Train Loss: 0.0034, Train Acc: 0.9999, Val Loss: 0.0033, Val Acc: 0.9997\n",
            "Epoch 46/50: Train Loss: 0.0025, Train Acc: 0.9999, Val Loss: 0.0036, Val Acc: 0.9996\n",
            "Epoch 47/50: Train Loss: 0.0025, Train Acc: 0.9999, Val Loss: 0.0036, Val Acc: 0.9996\n",
            "Epoch 48/50: Train Loss: 0.0026, Train Acc: 0.9999, Val Loss: 0.0031, Val Acc: 0.9997\n",
            "Epoch 49/50: Train Loss: 0.0023, Train Acc: 0.9999, Val Loss: 0.0031, Val Acc: 0.9996\n",
            "Epoch 50/50: Train Loss: 0.0028, Train Acc: 0.9998, Val Loss: 0.0038, Val Acc: 0.9995\n"
          ]
        }
      ]
    },
    {
      "cell_type": "code",
      "source": [
        "train_acc2 = trainer2.train_acc\n",
        "train_loss2 = trainer2.train_loss\n",
        "val_acc2 = trainer2.val_acc\n",
        "val_loss2 = trainer2.val_loss"
      ],
      "metadata": {
        "id": "IBcj_tHtALcS"
      },
      "execution_count": null,
      "outputs": []
    },
    {
      "cell_type": "code",
      "source": [
        "import matplotlib.pyplot as plt\n",
        "plt.plot(train_acc2, label='Training Accuracy')\n",
        "plt.plot(val_acc2, label='Validation Accuracy')\n",
        "plt.xlabel('Epoch')\n",
        "plt.ylabel('Accuracy')\n",
        "plt.legend()\n",
        "plt.show()"
      ],
      "metadata": {
        "colab": {
          "base_uri": "https://localhost:8080/",
          "height": 449
        },
        "id": "f1r7iwi6ARP7",
        "outputId": "ed7b69fb-c537-4aaf-aaa6-1a7bddda8934"
      },
      "execution_count": null,
      "outputs": [
        {
          "output_type": "display_data",
          "data": {
            "text/plain": [
              "<Figure size 640x480 with 1 Axes>"
            ],
            "image/png": "[encoded data removed]"
          },
          "metadata": {}
        }
      ]
    },
    {
      "cell_type": "code",
      "source": [
        "plt.plot(train_loss2, label='Training Loss')\n",
        "plt.plot(val_loss2, label='Validation Loss')\n",
        "plt.xlabel('Epoch')\n",
        "plt.ylabel('Loss')\n",
        "plt.legend()\n",
        "plt.show()"
      ],
      "metadata": {
        "id": "20wW6M6Qvouj",
        "outputId": "a22d22a1-9ffd-494b-ce13-6331bbb8dcf0",
        "colab": {
          "base_uri": "https://localhost:8080/",
          "height": 449
        }
      },
      "execution_count": null,
      "outputs": [
        {
          "output_type": "display_data",
          "data": {
            "text/plain": [
              "<Figure size 640x480 with 1 Axes>"
            ],
            "image/png": "[encoded data removed]"
          },
          "metadata": {}
        }
      ]
    },
    {
      "cell_type": "code",
      "source": [
        "from time import time\n",
        "\n",
        "start = time()\n",
        "acc2 = 0\n",
        "model2.eval()\n",
        "with torch.no_grad():\n",
        "    for batch in test_loader:\n",
        "        x, y = batch\n",
        "        x, y = x.to(device), y.to(device)  # move data to GPU\n",
        "        preds = model2(x)\n",
        "        acc2 += (torch.sum(torch.argmax(preds, dim=1) == y).item()) / len(y)\n",
        "print(f\"Test Accuracy: {acc2 / len(test_loader)}\")\n",
        "end = time()\n",
        "t2 = end - start\n",
        "print(f\"Time taken: {t2} seconds\")"
      ],
      "metadata": {
        "colab": {
          "base_uri": "https://localhost:8080/"
        },
        "id": "QNwhAm548XEW",
        "outputId": "f5acd969-4ded-4381-b2bf-0d0bbfbe9b8e"
      },
      "execution_count": null,
      "outputs": [
        {
          "output_type": "stream",
          "name": "stdout",
          "text": [
            "Test Accuracy: 0.2225384615384616\n",
            "Time taken: 5.0085389614105225 seconds\n"
          ]
        }
      ]
    },
    {
      "cell_type": "code",
      "source": [
        "param = sum(p.numel() for p in model.parameters())\n",
        "param1 = sum(p.numel() for p in model1.parameters())\n",
        "param2 = sum(p.numel() for p in model2.parameters())\n",
        "print(f\"Number of parameters in Efficient Net B1: {param}, t = {t:.5f}, test_acc = {acc/ len(test_loader):.5f}\")\n",
        "print(f\"Number of parameters in Inception V3: {param1}, t = {t1:.5f}, test_acc = {acc1 / len(test_loader):.5f}\")\n",
        "print(f\"Number of parameters in ResNet 101: {param2}, t = {t2:.5f}, test_acc = {acc2/ len(test_loader):.5f}\")"
      ],
      "metadata": {
        "colab": {
          "base_uri": "https://localhost:8080/"
        },
        "id": "GcPs5CkiDPFE",
        "outputId": "1159851f-e8fb-4aa4-be33-9d52c804ffe5"
      },
      "execution_count": null,
      "outputs": [
        {
          "output_type": "stream",
          "name": "stdout",
          "text": [
            "Number of parameters in Efficient Net B1: 7954344, t = 5.58286, test_acc = 0.22304\n",
            "Number of parameters in Inception V3: 23994728, t = 4.96118, test_acc = 0.15131\n",
            "Number of parameters in ResNet 101: 44709320, t = 5.00854, test_acc = 0.22254\n"
          ]
        }
      ]
    },
    {
      "cell_type": "code",
      "source": [
        "table = f\"\"\"\n",
        "| Model             | Number of Parameters | Inference Time (s) | Test Accuracy (%)  |\n",
        "|-------------------|----------------------|--------------------|--------------------|\n",
        "| EfficientNet-B1   | {param}              | {t:.5f}            | {acc/len(test_loader)*100:.2f}              |\n",
        "| Inception V3      | {param1}             | {t1:.5f}            | {acc1/len(test_loader)*100:.2f}              |\n",
        "| ResNet 101        | {param2}             | {t2:.5f}            | {acc2/len(test_loader)*100:.2f}              |\n",
        "\"\"\"\n",
        "print(table)\n"
      ],
      "metadata": {
        "colab": {
          "base_uri": "https://localhost:8080/"
        },
        "id": "PlTXXtIoNvLx",
        "outputId": "fd136cb5-6fa8-43ac-8962-cb5d9e5ac864"
      },
      "execution_count": null,
      "outputs": [
        {
          "output_type": "stream",
          "name": "stdout",
          "text": [
            "\n",
            "| Model             | Number of Parameters | Inference Time (s) | Test Accuracy (%)  |\n",
            "|-------------------|----------------------|--------------------|--------------------|\n",
            "| EfficientNet-B1   | 7954344              | 5.58286            | 22.30              |\n",
            "| Inception V3      | 23994728             | 4.96118            | 15.13              |\n",
            "| ResNet 101        | 44709320             | 5.00854            | 22.25              |\n",
            "\n"
          ]
        }
      ]
    },
    {
      "cell_type": "code",
      "source": [
        "!pip install datasets transformers\n"
      ],
      "metadata": {
        "colab": {
          "base_uri": "https://localhost:8080/"
        },
        "id": "X5cBXjaZD-oD",
        "outputId": "a149dc11-ca4e-48d8-ed71-f8d8dda49d6f"
      },
      "execution_count": null,
      "outputs": [
        {
          "output_type": "stream",
          "name": "stdout",
          "text": [
            "Requirement already satisfied: datasets in /usr/local/lib/python3.11/dist-packages (3.3.2)\n",
            "Requirement already satisfied: transformers in /usr/local/lib/python3.11/dist-packages (4.48.3)\n",
            "Requirement already satisfied: filelock in /usr/local/lib/python3.11/dist-packages (from datasets) (3.17.0)\n",
            "Requirement already satisfied: numpy>=1.17 in /usr/local/lib/python3.11/dist-packages (from datasets) (1.26.4)\n",
            "Requirement already satisfied: pyarrow>=15.0.0 in /usr/local/lib/python3.11/dist-packages (from datasets) (18.1.0)\n",
            "Requirement already satisfied: dill<0.3.9,>=0.3.0 in /usr/local/lib/python3.11/dist-packages (from datasets) (0.3.8)\n",
            "Requirement already satisfied: pandas in /usr/local/lib/python3.11/dist-packages (from datasets) (2.2.2)\n",
            "Requirement already satisfied: requests>=2.32.2 in /usr/local/lib/python3.11/dist-packages (from datasets) (2.32.3)\n",
            "Requirement already satisfied: tqdm>=4.66.3 in /usr/local/lib/python3.11/dist-packages (from datasets) (4.67.1)\n",
            "Requirement already satisfied: xxhash in /usr/local/lib/python3.11/dist-packages (from datasets) (3.5.0)\n",
            "Requirement already satisfied: multiprocess<0.70.17 in /usr/local/lib/python3.11/dist-packages (from datasets) (0.70.16)\n",
            "Requirement already satisfied: fsspec<=2024.12.0,>=2023.1.0 in /usr/local/lib/python3.11/dist-packages (from fsspec[http]<=2024.12.0,>=2023.1.0->datasets) (2024.10.0)\n",
            "Requirement already satisfied: aiohttp in /usr/local/lib/python3.11/dist-packages (from datasets) (3.11.13)\n",
            "Requirement already satisfied: huggingface-hub>=0.24.0 in /usr/local/lib/python3.11/dist-packages (from datasets) (0.28.1)\n",
            "Requirement already satisfied: packaging in /usr/local/lib/python3.11/dist-packages (from datasets) (24.2)\n",
            "Requirement already satisfied: pyyaml>=5.1 in /usr/local/lib/python3.11/dist-packages (from datasets) (6.0.2)\n",
            "Requirement already satisfied: regex!=2019.12.17 in /usr/local/lib/python3.11/dist-packages (from transformers) (2024.11.6)\n",
            "Requirement already satisfied: tokenizers<0.22,>=0.21 in /usr/local/lib/python3.11/dist-packages (from transformers) (0.21.0)\n",
            "Requirement already satisfied: safetensors>=0.4.1 in /usr/local/lib/python3.11/dist-packages (from transformers) (0.5.3)\n",
            "Requirement already satisfied: aiohappyeyeballs>=2.3.0 in /usr/local/lib/python3.11/dist-packages (from aiohttp->datasets) (2.5.0)\n",
            "Requirement already satisfied: aiosignal>=1.1.2 in /usr/local/lib/python3.11/dist-packages (from aiohttp->datasets) (1.3.2)\n",
            "Requirement already satisfied: attrs>=17.3.0 in /usr/local/lib/python3.11/dist-packages (from aiohttp->datasets) (25.1.0)\n",
            "Requirement already satisfied: frozenlist>=1.1.1 in /usr/local/lib/python3.11/dist-packages (from aiohttp->datasets) (1.5.0)\n",
            "Requirement already satisfied: multidict<7.0,>=4.5 in /usr/local/lib/python3.11/dist-packages (from aiohttp->datasets) (6.1.0)\n",
            "Requirement already satisfied: propcache>=0.2.0 in /usr/local/lib/python3.11/dist-packages (from aiohttp->datasets) (0.3.0)\n",
            "Requirement already satisfied: yarl<2.0,>=1.17.0 in /usr/local/lib/python3.11/dist-packages (from aiohttp->datasets) (1.18.3)\n",
            "Requirement already satisfied: typing-extensions>=3.7.4.3 in /usr/local/lib/python3.11/dist-packages (from huggingface-hub>=0.24.0->datasets) (4.12.2)\n",
            "Requirement already satisfied: charset-normalizer<4,>=2 in /usr/local/lib/python3.11/dist-packages (from requests>=2.32.2->datasets) (3.4.1)\n",
            "Requirement already satisfied: idna<4,>=2.5 in /usr/local/lib/python3.11/dist-packages (from requests>=2.32.2->datasets) (3.10)\n",
            "Requirement already satisfied: urllib3<3,>=1.21.1 in /usr/local/lib/python3.11/dist-packages (from requests>=2.32.2->datasets) (2.3.0)\n",
            "Requirement already satisfied: certifi>=2017.4.17 in /usr/local/lib/python3.11/dist-packages (from requests>=2.32.2->datasets) (2025.1.31)\n",
            "Requirement already satisfied: python-dateutil>=2.8.2 in /usr/local/lib/python3.11/dist-packages (from pandas->datasets) (2.8.2)\n",
            "Requirement already satisfied: pytz>=2020.1 in /usr/local/lib/python3.11/dist-packages (from pandas->datasets) (2025.1)\n",
            "Requirement already satisfied: tzdata>=2022.7 in /usr/local/lib/python3.11/dist-packages (from pandas->datasets) (2025.1)\n",
            "Requirement already satisfied: six>=1.5 in /usr/local/lib/python3.11/dist-packages (from python-dateutil>=2.8.2->pandas->datasets) (1.17.0)\n"
          ]
        }
      ]
    },
    {
      "cell_type": "code",
      "source": [
        "!pip install datasets transformers evaluate\n"
      ],
      "metadata": {
        "colab": {
          "base_uri": "https://localhost:8080/"
        },
        "id": "3wRopKZiESg3",
        "outputId": "ba5d78e5-408c-4281-f720-e3b600b49628"
      },
      "execution_count": null,
      "outputs": [
        {
          "output_type": "stream",
          "name": "stdout",
          "text": [
            "Requirement already satisfied: datasets in /usr/local/lib/python3.11/dist-packages (3.3.2)\n",
            "Requirement already satisfied: transformers in /usr/local/lib/python3.11/dist-packages (4.48.3)\n",
            "Requirement already satisfied: evaluate in /usr/local/lib/python3.11/dist-packages (0.4.3)\n",
            "Requirement already satisfied: filelock in /usr/local/lib/python3.11/dist-packages (from datasets) (3.17.0)\n",
            "Requirement already satisfied: numpy>=1.17 in /usr/local/lib/python3.11/dist-packages (from datasets) (1.26.4)\n",
            "Requirement already satisfied: pyarrow>=15.0.0 in /usr/local/lib/python3.11/dist-packages (from datasets) (18.1.0)\n",
            "Requirement already satisfied: dill<0.3.9,>=0.3.0 in /usr/local/lib/python3.11/dist-packages (from datasets) (0.3.8)\n",
            "Requirement already satisfied: pandas in /usr/local/lib/python3.11/dist-packages (from datasets) (2.2.2)\n",
            "Requirement already satisfied: requests>=2.32.2 in /usr/local/lib/python3.11/dist-packages (from datasets) (2.32.3)\n",
            "Requirement already satisfied: tqdm>=4.66.3 in /usr/local/lib/python3.11/dist-packages (from datasets) (4.67.1)\n",
            "Requirement already satisfied: xxhash in /usr/local/lib/python3.11/dist-packages (from datasets) (3.5.0)\n",
            "Requirement already satisfied: multiprocess<0.70.17 in /usr/local/lib/python3.11/dist-packages (from datasets) (0.70.16)\n",
            "Requirement already satisfied: fsspec<=2024.12.0,>=2023.1.0 in /usr/local/lib/python3.11/dist-packages (from fsspec[http]<=2024.12.0,>=2023.1.0->datasets) (2024.10.0)\n",
            "Requirement already satisfied: aiohttp in /usr/local/lib/python3.11/dist-packages (from datasets) (3.11.13)\n",
            "Requirement already satisfied: huggingface-hub>=0.24.0 in /usr/local/lib/python3.11/dist-packages (from datasets) (0.28.1)\n",
            "Requirement already satisfied: packaging in /usr/local/lib/python3.11/dist-packages (from datasets) (24.2)\n",
            "Requirement already satisfied: pyyaml>=5.1 in /usr/local/lib/python3.11/dist-packages (from datasets) (6.0.2)\n",
            "Requirement already satisfied: regex!=2019.12.17 in /usr/local/lib/python3.11/dist-packages (from transformers) (2024.11.6)\n",
            "Requirement already satisfied: tokenizers<0.22,>=0.21 in /usr/local/lib/python3.11/dist-packages (from transformers) (0.21.0)\n",
            "Requirement already satisfied: safetensors>=0.4.1 in /usr/local/lib/python3.11/dist-packages (from transformers) (0.5.3)\n",
            "Requirement already satisfied: aiohappyeyeballs>=2.3.0 in /usr/local/lib/python3.11/dist-packages (from aiohttp->datasets) (2.5.0)\n",
            "Requirement already satisfied: aiosignal>=1.1.2 in /usr/local/lib/python3.11/dist-packages (from aiohttp->datasets) (1.3.2)\n",
            "Requirement already satisfied: attrs>=17.3.0 in /usr/local/lib/python3.11/dist-packages (from aiohttp->datasets) (25.1.0)\n",
            "Requirement already satisfied: frozenlist>=1.1.1 in /usr/local/lib/python3.11/dist-packages (from aiohttp->datasets) (1.5.0)\n",
            "Requirement already satisfied: multidict<7.0,>=4.5 in /usr/local/lib/python3.11/dist-packages (from aiohttp->datasets) (6.1.0)\n",
            "Requirement already satisfied: propcache>=0.2.0 in /usr/local/lib/python3.11/dist-packages (from aiohttp->datasets) (0.3.0)\n",
            "Requirement already satisfied: yarl<2.0,>=1.17.0 in /usr/local/lib/python3.11/dist-packages (from aiohttp->datasets) (1.18.3)\n",
            "Requirement already satisfied: typing-extensions>=3.7.4.3 in /usr/local/lib/python3.11/dist-packages (from huggingface-hub>=0.24.0->datasets) (4.12.2)\n",
            "Requirement already satisfied: charset-normalizer<4,>=2 in /usr/local/lib/python3.11/dist-packages (from requests>=2.32.2->datasets) (3.4.1)\n",
            "Requirement already satisfied: idna<4,>=2.5 in /usr/local/lib/python3.11/dist-packages (from requests>=2.32.2->datasets) (3.10)\n",
            "Requirement already satisfied: urllib3<3,>=1.21.1 in /usr/local/lib/python3.11/dist-packages (from requests>=2.32.2->datasets) (2.3.0)\n",
            "Requirement already satisfied: certifi>=2017.4.17 in /usr/local/lib/python3.11/dist-packages (from requests>=2.32.2->datasets) (2025.1.31)\n",
            "Requirement already satisfied: python-dateutil>=2.8.2 in /usr/local/lib/python3.11/dist-packages (from pandas->datasets) (2.8.2)\n",
            "Requirement already satisfied: pytz>=2020.1 in /usr/local/lib/python3.11/dist-packages (from pandas->datasets) (2025.1)\n",
            "Requirement already satisfied: tzdata>=2022.7 in /usr/local/lib/python3.11/dist-packages (from pandas->datasets) (2025.1)\n",
            "Requirement already satisfied: six>=1.5 in /usr/local/lib/python3.11/dist-packages (from python-dateutil>=2.8.2->pandas->datasets) (1.17.0)\n"
          ]
        }
      ]
    },
    {
      "cell_type": "code",
      "source": [
        "\n",
        "import numpy as np\n",
        "import torch\n",
        "import matplotlib.pyplot as plt\n",
        "from datasets import load_dataset\n",
        "\n",
        "import evaluate\n",
        "\n",
        "from transformers import AutoTokenizer, AutoModelForSequenceClassification, Trainer, TrainingArguments\n",
        "\n",
        "\n",
        "raw_datasets = load_dataset(\"imdb\")\n",
        "\n",
        "full_train_dataset = raw_datasets[\"train\"].shuffle(seed=42)\n",
        "val_dataset = full_train_dataset.select(range(1000))\n",
        "train_dataset = full_train_dataset.select(range(1000, len(full_train_dataset)))\n",
        "test_dataset = raw_datasets[\"test\"]\n",
        "\n",
        "# Tokenize the dataset using ALBERT's tokenizer\n",
        "tokenizer = AutoTokenizer.from_pretrained(\"albert-base-v2\")\n",
        "\n",
        "def tokenize_function(examples):\n",
        "    # Tokenize the text reviews. We use max_length to pad/truncate the texts.\n",
        "    return tokenizer(examples[\"text\"], padding=\"max_length\", truncation=True, max_length=512)\n",
        "\n",
        "train_dataset = train_dataset.map(tokenize_function, batched=True)\n",
        "val_dataset = val_dataset.map(tokenize_function, batched=True)\n",
        "test_dataset = test_dataset.map(tokenize_function, batched=True)\n",
        "\n",
        "columns = [\"input_ids\", \"attention_mask\", \"label\"]\n",
        "train_dataset.set_format(type=\"torch\", columns=columns)\n",
        "val_dataset.set_format(type=\"torch\", columns=columns)\n",
        "test_dataset.set_format(type=\"torch\", columns=columns)\n",
        "\n",
        "# Load ALBERT pretrained\n",
        "model = AutoModelForSequenceClassification.from_pretrained(\"albert-base-v2\", num_labels=2)\n",
        "\n",
        "\n",
        "training_args = TrainingArguments(\n",
        "    output_dir=\"./results\",\n",
        "    num_train_epochs=10,\n",
        "    per_device_train_batch_size=16,\n",
        "    per_device_eval_batch_size=16,\n",
        "    evaluation_strategy=\"epoch\",\n",
        "    save_strategy=\"epoch\",\n",
        "    learning_rate=1e-5,\n",
        "    weight_decay=0.01,\n",
        "    logging_dir=\"./logs\",\n",
        "    logging_steps=100,\n",
        "    load_best_model_at_end=True,\n",
        "    metric_for_best_model=\"accuracy\",\n",
        ")\n",
        "\n",
        "accuracy_metric = evaluate.load(\"accuracy\")\n",
        "def compute_metrics(eval_pred):\n",
        "    logits, labels = eval_pred\n",
        "    predictions = np.argmax(logits, axis=-1)\n",
        "    return accuracy_metric.compute(predictions=predictions, references=labels)\n",
        "\n",
        "\n",
        "trainer = Trainer(\n",
        "    model=model,\n",
        "    args=training_args,\n",
        "    train_dataset=train_dataset,\n",
        "    eval_dataset=val_dataset,\n",
        "    compute_metrics=compute_metrics,\n",
        ")\n",
        "\n",
        "trainer.train()\n",
        "\n"
      ],
      "metadata": {
        "colab": {
          "base_uri": "https://localhost:8080/",
          "height": 839,
          "referenced_widgets": [
            "c658ca38b7cb4bd1a78416a9f055bc01",
            "8f626b5105e84453ad72cb0279f1c7be",
            "313c3a0b9528408e82bd7ebb3a73d2b3",
            "8d92d67eef9c4edab8e49ce3f5b381b1",
            "0e9f164560b444ff97362f626f20f2c1",
            "c23641a2295241f488c85f9f7995f965",
            "a653a34b02e14ff29c6bc48312bbac6f",
            "b5fd532fdf724e0e951972d690ce6132",
            "8fae2fec96ba4abfb28a4dfce4b909dc",
            "b4d5a00844de4613b866df47462db619",
            "edd11bd9d62e4c919aba506c1e368efe"
          ]
        },
        "id": "HkiqaxF0DzYp",
        "outputId": "fe860565-cf30-47f3-8909-698ced3d1688"
      },
      "execution_count": null,
      "outputs": [
        {
          "output_type": "stream",
          "name": "stderr",
          "text": [
            "/usr/local/lib/python3.11/dist-packages/huggingface_hub/utils/_auth.py:94: UserWarning: \n",
            "The secret `HF_TOKEN` does not exist in your Colab secrets.\n",
            "To authenticate with the Hugging Face Hub, create a token in your settings tab (https://huggingface.co/settings/tokens), set it as secret in your Google Colab and restart your session.\n",
            "You will be able to reuse this secret in all of your notebooks.\n",
            "Please note that authentication is recommended but still optional to access public models or datasets.\n",
            "  warnings.warn(\n"
          ]
        },
        {
          "output_type": "display_data",
          "data": {
            "text/plain": [
              "Map:   0%|          | 0/25000 [00:00<?, ? examples/s]"
            ],
            "application/vnd.jupyter.widget-view+json": {
              "version_major": 2,
              "version_minor": 0,
              "model_id": "c658ca38b7cb4bd1a78416a9f055bc01"
            }
          },
          "metadata": {}
        },
        {
          "output_type": "stream",
          "name": "stderr",
          "text": [
            "Some weights of AlbertForSequenceClassification were not initialized from the model checkpoint at albert-base-v2 and are newly initialized: ['classifier.bias', 'classifier.weight']\n",
            "You should probably TRAIN this model on a down-stream task to be able to use it for predictions and inference.\n",
            "/usr/local/lib/python3.11/dist-packages/transformers/training_args.py:1575: FutureWarning: `evaluation_strategy` is deprecated and will be removed in version 4.46 of 🤗 Transformers. Use `eval_strategy` instead\n",
            "  warnings.warn(\n",
            "\u001b[34m\u001b[1mwandb\u001b[0m: \u001b[33mWARNING\u001b[0m The `run_name` is currently set to the same value as `TrainingArguments.output_dir`. If this was not intended, please specify a different run name by setting the `TrainingArguments.run_name` parameter.\n",
            "\u001b[34m\u001b[1mwandb\u001b[0m: Using wandb-core as the SDK backend.  Please refer to https://wandb.me/wandb-core for more information.\n",
            "\u001b[34m\u001b[1mwandb\u001b[0m: Currently logged in as: \u001b[33mgezhiwang103\u001b[0m (\u001b[33mgezhiwang103-cornell-university\u001b[0m) to \u001b[32mhttps://api.wandb.ai\u001b[0m. Use \u001b[1m`wandb login --relogin`\u001b[0m to force relogin\n"
          ]
        },
        {
          "output_type": "display_data",
          "data": {
            "text/plain": [
              "<IPython.core.display.HTML object>"
            ],
            "text/html": [
              "Tracking run with wandb version 0.19.8"
            ]
          },
          "metadata": {}
        },
        {
          "output_type": "display_data",
          "data": {
            "text/plain": [
              "<IPython.core.display.HTML object>"
            ],
            "text/html": [
              "Run data is saved locally in <code>/content/wandb/run-20250312_220233-ihs8vtfm</code>"
            ]
          },
          "metadata": {}
        },
        {
          "output_type": "display_data",
          "data": {
            "text/plain": [
              "<IPython.core.display.HTML object>"
            ],
            "text/html": [
              "Syncing run <strong><a href='https://wandb.ai/gezhiwang103-cornell-university/huggingface/runs/ihs8vtfm' target=\"_blank\">./results</a></strong> to <a href='https://wandb.ai/gezhiwang103-cornell-university/huggingface' target=\"_blank\">Weights & Biases</a> (<a href='https://wandb.me/developer-guide' target=\"_blank\">docs</a>)<br>"
            ]
          },
          "metadata": {}
        },
        {
          "output_type": "display_data",
          "data": {
            "text/plain": [
              "<IPython.core.display.HTML object>"
            ],
            "text/html": [
              " View project at <a href='https://wandb.ai/gezhiwang103-cornell-university/huggingface' target=\"_blank\">https://wandb.ai/gezhiwang103-cornell-university/huggingface</a>"
            ]
          },
          "metadata": {}
        },
        {
          "output_type": "display_data",
          "data": {
            "text/plain": [
              "<IPython.core.display.HTML object>"
            ],
            "text/html": [
              " View run at <a href='https://wandb.ai/gezhiwang103-cornell-university/huggingface/runs/ihs8vtfm' target=\"_blank\">https://wandb.ai/gezhiwang103-cornell-university/huggingface/runs/ihs8vtfm</a>"
            ]
          },
          "metadata": {}
        },
        {
          "output_type": "display_data",
          "data": {
            "text/plain": [
              "<IPython.core.display.HTML object>"
            ],
            "text/html": [
              "\n",
              "    <div>\n",
              "      \n",
              "      <progress value='15000' max='15000' style='width:300px; height:20px; vertical-align: middle;'></progress>\n",
              "      [15000/15000 1:23:54, Epoch 10/10]\n",
              "    </div>\n",
              "    <table border=\"1\" class=\"dataframe\">\n",
              "  <thead>\n",
              " <tr style=\"text-align: left;\">\n",
              "      <th>Epoch</th>\n",
              "      <th>Training Loss</th>\n",
              "      <th>Validation Loss</th>\n",
              "      <th>Accuracy</th>\n",
              "    </tr>\n",
              "  </thead>\n",
              "  <tbody>\n",
              "    <tr>\n",
              "      <td>1</td>\n",
              "      <td>0.224400</td>\n",
              "      <td>0.237343</td>\n",
              "      <td>0.925000</td>\n",
              "    </tr>\n",
              "    <tr>\n",
              "      <td>2</td>\n",
              "      <td>0.170800</td>\n",
              "      <td>0.320603</td>\n",
              "      <td>0.932000</td>\n",
              "    </tr>\n",
              "    <tr>\n",
              "      <td>3</td>\n",
              "      <td>0.112300</td>\n",
              "      <td>0.345524</td>\n",
              "      <td>0.929000</td>\n",
              "    </tr>\n",
              "    <tr>\n",
              "      <td>4</td>\n",
              "      <td>0.070400</td>\n",
              "      <td>0.406264</td>\n",
              "      <td>0.932000</td>\n",
              "    </tr>\n",
              "    <tr>\n",
              "      <td>5</td>\n",
              "      <td>0.077000</td>\n",
              "      <td>0.486197</td>\n",
              "      <td>0.924000</td>\n",
              "    </tr>\n",
              "    <tr>\n",
              "      <td>6</td>\n",
              "      <td>0.044800</td>\n",
              "      <td>0.531731</td>\n",
              "      <td>0.937000</td>\n",
              "    </tr>\n",
              "    <tr>\n",
              "      <td>7</td>\n",
              "      <td>0.012900</td>\n",
              "      <td>0.606719</td>\n",
              "      <td>0.933000</td>\n",
              "    </tr>\n",
              "    <tr>\n",
              "      <td>8</td>\n",
              "      <td>0.000700</td>\n",
              "      <td>0.660702</td>\n",
              "      <td>0.931000</td>\n",
              "    </tr>\n",
              "    <tr>\n",
              "      <td>9</td>\n",
              "      <td>0.000000</td>\n",
              "      <td>0.678557</td>\n",
              "      <td>0.933000</td>\n",
              "    </tr>\n",
              "    <tr>\n",
              "      <td>10</td>\n",
              "      <td>0.000000</td>\n",
              "      <td>0.671036</td>\n",
              "      <td>0.936000</td>\n",
              "    </tr>\n",
              "  </tbody>\n",
              "</table><p>"
            ]
          },
          "metadata": {}
        },
        {
          "output_type": "execute_result",
          "data": {
            "text/plain": [
              "TrainOutput(global_step=15000, training_loss=0.07446481683701277, metrics={'train_runtime': 5036.4436, 'train_samples_per_second': 47.653, 'train_steps_per_second': 2.978, 'total_flos': 5735544422400000.0, 'train_loss': 0.07446481683701277, 'epoch': 10.0})"
            ]
          },
          "metadata": {},
          "execution_count": 29
        }
      ]
    },
    {
      "cell_type": "code",
      "source": [
        "test_results = trainer.evaluate(eval_dataset=test_dataset)\n",
        "print(\"Test evaluation:\", test_results)\n",
        "\n",
        "history = trainer.state.log_history\n",
        "\n",
        "epochs = []\n",
        "train_losses = []\n",
        "val_losses = []\n",
        "val_accuracies = []\n",
        "\n",
        "for log in history:\n",
        "    if \"epoch\" in log:\n",
        "        epoch = log[\"epoch\"]\n",
        "        if \"loss\" in log and \"eval_loss\" not in log:\n",
        "            epochs.append(epoch)\n",
        "            train_losses.append(log[\"loss\"])\n",
        "        if \"eval_loss\" in log:\n",
        "            val_losses.append(log[\"eval_loss\"])\n",
        "            val_accuracies.append(log.get(\"eval_accuracy\", None))\n",
        "\n",
        "\n"
      ],
      "metadata": {
        "colab": {
          "base_uri": "https://localhost:8080/",
          "height": 74
        },
        "id": "4my-JKTJaNNS",
        "outputId": "652a5938-1fe9-4db2-c21d-13c0e67f5322"
      },
      "execution_count": null,
      "outputs": [
        {
          "output_type": "display_data",
          "data": {
            "text/plain": [
              "<IPython.core.display.HTML object>"
            ],
            "text/html": [
              "\n",
              "    <div>\n",
              "      \n",
              "      <progress value='1563' max='1563' style='width:300px; height:20px; vertical-align: middle;'></progress>\n",
              "      [1563/1563 02:54]\n",
              "    </div>\n",
              "    "
            ]
          },
          "metadata": {}
        },
        {
          "output_type": "stream",
          "name": "stdout",
          "text": [
            "Test evaluation: {'eval_loss': 0.4668540954589844, 'eval_accuracy': 0.9374, 'eval_runtime': 175.1516, 'eval_samples_per_second': 142.734, 'eval_steps_per_second': 8.924, 'epoch': 10.0}\n"
          ]
        }
      ]
    },
    {
      "cell_type": "code",
      "source": [
        "plt.figure(figsize=(12, 5))\n",
        "\n",
        "x1=np.arange(len(val_losses))\n",
        "plt.subplot(1, 2, 1)\n",
        "plt.plot(epochs, train_losses, label=\"Training Loss\", marker='o')\n",
        "plt.plot(x1, val_losses, label=\"Validation Loss\", marker='o')\n",
        "plt.xlabel(\"Epoch\")\n",
        "plt.ylabel(\"Loss\")\n",
        "plt.title(\"Training vs. Validation Loss\")\n",
        "plt.legend()\n",
        "\n",
        "x2=np.arange(len(val_accuracies))\n",
        "plt.subplot(1, 2, 2)\n",
        "plt.plot(x2, val_accuracies, label=\"Validation Accuracy\", marker='o')\n",
        "plt.xlabel(\"Epoch\")\n",
        "plt.ylabel(\"Accuracy\")\n",
        "plt.title(\"Validation Accuracy\")\n",
        "plt.legend()\n",
        "\n",
        "plt.tight_layout()\n",
        "plt.show()\n",
        "\n",
        "#Bonus\n",
        "device = torch.device(\"cuda\" if torch.cuda.is_available() else \"cpu\")\n",
        "sample_text = \"This movie was really amazing!\"\n",
        "inputs = tokenizer(sample_text, return_tensors=\"pt\", truncation=True, padding=\"max_length\", max_length=512)\n",
        "inputs = {key: value.to(device) for key, value in inputs.items()}\n",
        "with torch.no_grad():\n",
        "    outputs = model(**inputs)\n",
        "logits = outputs.logits\n",
        "predicted_class = torch.argmax(logits, dim=1).item()\n",
        "probabilities = torch.softmax(logits, dim=1).squeeze().tolist()\n",
        "\n",
        "print(\"Bonus Prediction:\")\n",
        "print(\"Predicted label (0=negative, 1=positive):\", predicted_class)\n",
        "print(\"Class probabilities:\", probabilities)\n"
      ],
      "metadata": {
        "colab": {
          "base_uri": "https://localhost:8080/",
          "height": 327
        },
        "id": "M8Nc9VR-aVo0",
        "outputId": "dd62f036-0c64-4602-a128-11b46cc6eaff"
      },
      "execution_count": null,
      "outputs": [
        {
          "output_type": "display_data",
          "data": {
            "text/plain": [
              "<Figure size 1200x500 with 2 Axes>"
            ],
            "image/png": "[encoded data removed]"
          },
          "metadata": {}
        },
        {
          "output_type": "stream",
          "name": "stdout",
          "text": [
            "Bonus Prediction:\n",
            "Predicted label (0=negative, 1=positive): 1\n",
            "Class probabilities: [0.00011624566104728729, 0.999883770942688]\n"
          ]
        }
      ]
    },
    {
      "cell_type": "code",
      "source": [
        "sample_text = \"asian people\"\n",
        "inputs = tokenizer(sample_text, return_tensors=\"pt\", truncation=True, padding=\"max_length\", max_length=512)\n",
        "inputs = {key: value.to(device) for key, value in inputs.items()}\n",
        "with torch.no_grad():\n",
        "    outputs = model(**inputs)\n",
        "logits = outputs.logits\n",
        "predicted_class = torch.argmax(logits, dim=1).item()\n",
        "probabilities = torch.softmax(logits, dim=1).squeeze().tolist()\n",
        "\n",
        "print(\"Bonus Prediction:\")\n",
        "print(\"Predicted label (0=negative, 1=positive):\", predicted_class)\n",
        "print(\"Class probabilities:\", probabilities)"
      ],
      "metadata": {
        "colab": {
          "base_uri": "https://localhost:8080/"
        },
        "id": "7HEvk3U5tZCg",
        "outputId": "167db652-62df-428a-9796-0e59caf3715a"
      },
      "execution_count": null,
      "outputs": [
        {
          "output_type": "stream",
          "name": "stdout",
          "text": [
            "Bonus Prediction:\n",
            "Predicted label (0=negative, 1=positive): 1\n",
            "Class probabilities: [0.13353025913238525, 0.8664697408676147]\n"
          ]
        }
      ]
    }
  ]
}